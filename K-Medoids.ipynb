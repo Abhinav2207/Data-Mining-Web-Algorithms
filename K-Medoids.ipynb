{
 "cells": [
  {
   "cell_type": "code",
   "execution_count": 2,
   "metadata": {},
   "outputs": [],
   "source": [
    "import numpy as np\n",
    "import pandas as pd"
   ]
  },
  {
   "cell_type": "code",
   "execution_count": 3,
   "metadata": {},
   "outputs": [],
   "source": [
    "l=[[2,6],\n",
    "  [3,4],\n",
    "  [3,8],\n",
    "  [4,7],\n",
    "  [6,2],\n",
    "  [6,4],\n",
    "  [7,3],\n",
    "  [7,4],\n",
    "  [8,5],\n",
    "  [7,6]]"
   ]
  },
  {
   "cell_type": "code",
   "execution_count": 11,
   "metadata": {},
   "outputs": [
    {
     "name": "stdout",
     "output_type": "stream",
     "text": [
      "Min Cost if i,j are chosen as cluster centroids:\n",
      "[[ 0. 34. 46. 40. 26. 20. 20. 18. 24. 24.]\n",
      " [34.  0. 34. 32. 28. 22. 22. 20. 26. 26.]\n",
      " [46. 34.  0. 42. 26. 19. 20. 18. 24. 24.]\n",
      " [40. 32. 42.  0. 25. 19. 20. 18. 24. 24.]\n",
      " [26. 28. 26. 25.  0. 30. 38. 31. 34. 28.]\n",
      " [20. 22. 19. 19. 30.  0. 30. 28. 28. 25.]\n",
      " [20. 22. 20. 20. 38. 30.  0. 32. 33. 27.]\n",
      " [18. 20. 18. 18. 31. 28. 32.  0. 32. 26.]\n",
      " [24. 26. 24. 24. 34. 28. 33. 32.  0. 34.]\n",
      " [24. 26. 24. 24. 28. 25. 27. 26. 34.  0.]]\n"
     ]
    }
   ],
   "source": [
    "ans=np.zeros((10,10))\n",
    "for c1 in range(0,10):\n",
    "    for c2 in range(c1+1,10):\n",
    "            cost=0\n",
    "            for i in l:\n",
    "                d1=abs(i[0]-l[c1][0])+abs(i[1]-l[c1][1])\n",
    "                d2=abs(i[0]-l[c2][0])+abs(i[1]-l[c2][1])\n",
    "                cost=cost+min(d1,d2)\n",
    "            ans[c1][c2]=cost\n",
    "            ans[c2][c1]=cost\n",
    "print(\"Min Cost if i,j are chosen as cluster centroids:\")\n",
    "print(ans)"
   ]
  }
 ],
 "metadata": {
  "kernelspec": {
   "display_name": "Python 3",
   "language": "python",
   "name": "python3"
  },
  "language_info": {
   "codemirror_mode": {
    "name": "ipython",
    "version": 3
   },
   "file_extension": ".py",
   "mimetype": "text/x-python",
   "name": "python",
   "nbconvert_exporter": "python",
   "pygments_lexer": "ipython3",
   "version": "3.8.8"
  }
 },
 "nbformat": 4,
 "nbformat_minor": 2
}
