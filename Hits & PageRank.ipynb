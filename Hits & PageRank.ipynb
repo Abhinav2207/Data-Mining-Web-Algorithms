{
 "cells": [
  {
   "cell_type": "code",
   "execution_count": 2,
   "id": "d9e62d56",
   "metadata": {},
   "outputs": [],
   "source": [
    "import networkx as nx\n",
    "import numpy as np\n",
    "from numpy import linalg as LA"
   ]
  },
  {
   "cell_type": "code",
   "execution_count": 3,
   "id": "c877f70c",
   "metadata": {},
   "outputs": [
    {
     "data": {
      "image/png": "[encoded data removed]",
      "text/plain": [
       "<Figure size 432x288 with 1 Axes>"
      ]
     },
     "metadata": {},
     "output_type": "display_data"
    }
   ],
   "source": [
    "g = nx.DiGraph()\n",
    "g.add_nodes_from(['A','B','C','D','E','F','G','H'])\n",
    "g.add_edges_from([('A', 'D'),('B','C'),('B','E'),('C','A'),('D','B'),('D','C'),('E','F'),('E','B'),('E','C'),('E','D'),\n",
    "                  ('F','C'),('F','H'),('G','C'),('G','A'),('H','A')])\n",
    "nx.draw_networkx(g, node_color ='green')"
   ]
  },
  {
   "cell_type": "code",
   "execution_count": 8,
   "id": "74f2c7fa",
   "metadata": {},
   "outputs": [
    {
     "name": "stdout",
     "output_type": "stream",
     "text": [
      "{'A': ['D'], 'B': ['C', 'E'], 'C': ['A'], 'D': ['B', 'C'], 'E': ['F', 'B', 'C', 'D'], 'F': ['C', 'H'], 'G': ['C', 'A'], 'H': ['A']}\n"
     ]
    }
   ],
   "source": [
    "# Out Degree\n",
    "adj_list={}\n",
    "for node in g.nodes():\n",
    "    adj_list[node]=[]\n",
    "    for nei in g.neighbors(node):\n",
    "        adj_list[node].append(nei)\n",
    "print(adj_list)"
   ]
  },
  {
   "cell_type": "code",
   "execution_count": 14,
   "id": "863dc6b1",
   "metadata": {},
   "outputs": [
    {
     "data": {
      "text/plain": [
       "defaultdict(list,\n",
       "            {'D': ['A', 'E'],\n",
       "             'C': ['B', 'D', 'E', 'F', 'G'],\n",
       "             'E': ['B'],\n",
       "             'A': ['C', 'G', 'H'],\n",
       "             'B': ['D', 'E'],\n",
       "             'F': ['E'],\n",
       "             'H': ['F']})"
      ]
     },
     "execution_count": 14,
     "metadata": {},
     "output_type": "execute_result"
    }
   ],
   "source": [
    "# In Degree\n",
    "from collections import defaultdict\n",
    "inb=defaultdict(list)\n",
    "for k,v in zip(adj_list,adj_list.values()):\n",
    "    for i in v:\n",
    "        inb[i].append(k)\n",
    "inb  "
   ]
  },
  {
   "cell_type": "code",
   "execution_count": 28,
   "id": "db98dcef",
   "metadata": {},
   "outputs": [
    {
     "name": "stdout",
     "output_type": "stream",
     "text": [
      "[1.7875 0.5625 1.6125 0.9125 0.3875 0.2125 0.0375 0.3875]\n"
     ]
    }
   ],
   "source": [
    "# Page Ranking Algorithm\n",
    "pr=np.ones(len(g.nodes))\n",
    "pr2=pr.copy()\n",
    "d=0.7\n",
    "for i in g.nodes:\n",
    "    pr2[ord(i)-ord('A')]=(1-d)/len(g.nodes)\n",
    "    incal=0\n",
    "    for j in inb[i]:\n",
    "        incal+=pr[ord(j)-ord('A')]/len(adj_list[j])\n",
    "    pr2[ord(i)-ord('A')]+=d*(incal)\n",
    "print(pr2)"
   ]
  },
  {
   "cell_type": "code",
   "execution_count": 30,
   "id": "67135dd3",
   "metadata": {},
   "outputs": [
    {
     "name": "stdout",
     "output_type": "stream",
     "text": [
      "[3. 2. 5. 2. 1. 1. 0. 1.]\n",
      "[2. 3. 2. 3. 5. 3. 3. 2.]\n"
     ]
    }
   ],
   "source": [
    "# Hubs & Authority Algorithm\n",
    "a=np.ones(len(g.nodes))\n",
    "h=np.ones(len(g.nodes))\n",
    "a1=a.copy()\n",
    "h1=h.copy()\n",
    "for i in g.nodes:\n",
    "    a1[ord(i)-ord('A')]=0\n",
    "    for j in inb[i]:\n",
    "        a1[ord(i)-ord('A')]+=h[ord(j)-ord('A')]\n",
    "    for j in adj_list[i]:\n",
    "        h1[ord(i)-ord('A')]+=a[ord(j)-ord('A')]\n",
    "print(a1)\n",
    "print(h1)"
   ]
  }
 ],
 "metadata": {
  "kernelspec": {
   "display_name": "Python 3",
   "language": "python",
   "name": "python3"
  },
  "language_info": {
   "codemirror_mode": {
    "name": "ipython",
    "version": 3
   },
   "file_extension": ".py",
   "mimetype": "text/x-python",
   "name": "python",
   "nbconvert_exporter": "python",
   "pygments_lexer": "ipython3",
   "version": "3.8.8"
  }
 },
 "nbformat": 4,
 "nbformat_minor": 5
}
