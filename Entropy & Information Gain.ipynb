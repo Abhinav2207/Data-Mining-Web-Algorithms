{
 "cells": [
  {
   "cell_type": "code",
   "execution_count": 3,
   "metadata": {},
   "outputs": [
    {
     "name": "stdout",
     "output_type": "stream",
     "text": [
      "   Branch  CGPA Gamer Movie Fanatic Committed\n",
      "0     CSE  High   Yes            No        No\n",
      "1     CSE   Low   Yes            No        No\n",
      "2     CSE  High   Yes           Yes        No\n",
      "3     CSE  High    No            No       Yes\n",
      "4     CSE   Low    No           Yes       Yes\n",
      "5     ECE   Low   Yes            No        No\n",
      "6     ECE  High   Yes           Yes       Yes\n",
      "7     ECE   Low   Yes           Yes        No\n",
      "8     ECE  High   Yes           Yes       Yes\n",
      "9     ECE  High    No           Yes       Yes\n",
      "10   MECH  High   Yes           Yes        No\n",
      "11   MECH  High    No            No        No\n",
      "12   MECH  High    No            No       Yes\n",
      "13   MECH   Low    No            No       Yes\n",
      "14   MECH   Low    No            No       Yes\n"
     ]
    }
   ],
   "source": [
    "import pandas\n",
    "from sklearn import tree\n",
    "import pydotplus\n",
    "from sklearn.tree import DecisionTreeClassifier\n",
    "import matplotlib.pyplot as plt\n",
    "import matplotlib.image as pltimg\n",
    "df = pandas.read_csv(\"entropy_data.csv\")\n",
    "print(df)"
   ]
  },
  {
   "cell_type": "code",
   "execution_count": 4,
   "metadata": {},
   "outputs": [
    {
     "name": "stdout",
     "output_type": "stream",
     "text": [
      "    Branch  CGPA  Gamer  Movie Fanatic  Committed\n",
      "0        2     1      1              0          0\n",
      "1        2     0      1              0          0\n",
      "2        2     1      1              1          0\n",
      "3        2     1      0              0          1\n",
      "4        2     0      0              1          1\n",
      "5        1     0      1              0          0\n",
      "6        1     1      1              1          1\n",
      "7        1     0      1              1          0\n",
      "8        1     1      1              1          1\n",
      "9        1     1      0              1          1\n",
      "10       0     1      1              1          0\n",
      "11       0     1      0              0          0\n",
      "12       0     1      0              0          1\n",
      "13       0     0      0              0          1\n",
      "14       0     0      0              0          1\n"
     ]
    }
   ],
   "source": [
    "d = {'Yes': 1, 'No': 0}\n",
    "df['Gamer']=df['Gamer'].map(d)\n",
    "df['Movie Fanatic']=df['Movie Fanatic'].map(d)\n",
    "df['Committed']=df['Committed'].map(d)\n",
    "\n",
    "d = {'High': 1, 'Low': 0}\n",
    "df['CGPA'] = df['CGPA'].map(d)\n",
    "\n",
    "d = {'CSE': 2, 'ECE': 1,'MECH':0}\n",
    "df['Branch'] = df['Branch'].map(d)\n",
    "print(df)\n",
    "\n",
    "features = ['Branch', 'CGPA','Gamer', 'Movie Fanatic']\n",
    "\n",
    "X = df[features]\n",
    "y = df['Committed']"
   ]
  },
  {
   "cell_type": "markdown",
   "metadata": {},
   "source": [
    "# Calculating Entropy & Information Gain"
   ]
  },
  {
   "cell_type": "code",
   "execution_count": 5,
   "metadata": {},
   "outputs": [
    {
     "name": "stdout",
     "output_type": "stream",
     "text": [
      "Entropy of Branch : 1.584962500721156\n",
      "Entropy of CGPA : 0.9709505944546686\n",
      "Entropy of Gamer : 0.9967916319816366\n",
      "Entropy of Movie Fanatic : 0.9967916319816366\n",
      "Entropy of Committed : 0.9967916319816366\n"
     ]
    }
   ],
   "source": [
    "import pandas as pd\n",
    "import numpy as np\n",
    "import math\n",
    "\n",
    "midwest = pd.read_csv('Q1.csv')\n",
    "\n",
    "def calc_entropy(column):\n",
    "    counts = np.bincount(column)\n",
    "    probabilities = counts/len(column)\n",
    "    entropy = 0\n",
    "    for prob in probabilities:\n",
    "        if prob > 0:\n",
    "            entropy += prob * math.log(prob, 2)\n",
    "    \n",
    "    return -entropy\n",
    "\n",
    "for i in df:\n",
    "    print(\"Entropy of\",i,\":\",calc_entropy(df[i]))"
   ]
  },
  {
   "cell_type": "code",
   "execution_count": 6,
   "metadata": {},
   "outputs": [
    {
     "name": "stdout",
     "output_type": "stream",
     "text": [
      "Entropy Gain of Branch : 0.34949123567852425\n",
      "Entropy Gain of CGPA : 0.0021459960787032495\n",
      "Entropy Gain of Gamer : 0.287996002265013\n",
      "Entropy Gain of Movie Fanatic : 0.0036851684989858136\n",
      "Entropy Gain of Committed : 0.9967916319816366\n"
     ]
    }
   ],
   "source": [
    "def calc_information_gain(data, split_name, target_name):\n",
    "    \n",
    "    original_entropy = calc_entropy(data[target_name])\n",
    "    values = data[split_name].unique()\n",
    "\n",
    "    left_split = data[data[split_name] == values[0]]\n",
    "    right_split = data[data[split_name] == values[1]]\n",
    "    \n",
    "    # Loop through the splits and calculate the subset entropies\n",
    "    to_subtract = 0\n",
    "    for subset in [left_split, right_split]:\n",
    "        prob = (subset.shape[0] / data.shape[0]) \n",
    "        to_subtract += prob * calc_entropy(subset[target_name])\n",
    "    \n",
    "    return original_entropy - to_subtract\n",
    "for i in df:\n",
    "    print(\"Entropy Gain of\",i,\":\",calc_information_gain(df,i,'Committed'))\n",
    "# calc_information_gain(df,'CGPA','Committed')"
   ]
  }
 ],
 "metadata": {
  "kernelspec": {
   "display_name": "Python 3",
   "language": "python",
   "name": "python3"
  },
  "language_info": {
   "codemirror_mode": {
    "name": "ipython",
    "version": 3
   },
   "file_extension": ".py",
   "mimetype": "text/x-python",
   "name": "python",
   "nbconvert_exporter": "python",
   "pygments_lexer": "ipython3",
   "version": "3.8.8"
  }
 },
 "nbformat": 4,
 "nbformat_minor": 2
}
