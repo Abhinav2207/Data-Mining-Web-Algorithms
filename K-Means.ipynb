{
 "cells": [
  {
   "cell_type": "code",
   "execution_count": 63,
   "metadata": {},
   "outputs": [],
   "source": [
    "import pandas as pd\n",
    "import numpy as np\n",
    "import random as rd\n",
    "import matplotlib.pyplot as pltac"
   ]
  },
  {
   "cell_type": "code",
   "execution_count": 64,
   "metadata": {},
   "outputs": [],
   "source": [
    "data=np.array([[4.09, 8.06],\n",
    "[4.08, 10.02],\n",
    "[4.07, 12.01],\n",
    "[12.51, 12.54],\n",
    "[12.03 ,12.04],\n",
    "[11.57 ,11.52],\n",
    "[11.09 ,11.03],\n",
    "[10.53 ,10.51],\n",
    "[10.01 ,10.01],\n",
    "[15.52 ,12.5],\n",
    "[15.1 ,12.06],\n",
    "[14.57, 11.55],\n",
    "[14.3, 11.08],\n",
    "[13.53, 10.52],\n",
    "[13.008, 10.03],\n",
    "[15.021, 4.01],\n",
    "[14.031, 3.02],\n",
    "[12.02, 2.99],\n",
    "[10.04, 3.107],\n",
    "[8.05, 3.08],\n",
    "[7.03, 3.04],\n",
    "[6.06, 4.01],\n",
    "[5.06, 5.07],\n",
    "[4.03, 6.02],\n",
    "[5.03, 14.02],\n",
    "[5.01, 16.05]])"
   ]
  },
  {
   "cell_type": "code",
   "execution_count": 65,
   "metadata": {},
   "outputs": [],
   "source": [
    "m = data.shape[0]\n",
    "n = data.shape[1]"
   ]
  },
  {
   "cell_type": "code",
   "execution_count": 66,
   "metadata": {},
   "outputs": [],
   "source": [
    "n_iter = 100\n",
    "K=3"
   ]
  },
  {
   "cell_type": "code",
   "execution_count": 67,
   "metadata": {},
   "outputs": [],
   "source": [
    "centroids=np.array([]).reshape(n,0) "
   ]
  },
  {
   "cell_type": "code",
   "execution_count": 68,
   "metadata": {},
   "outputs": [
    {
     "data": {
      "text/plain": [
       "array([[14.57 , 14.031, 10.04 ],\n",
       "       [11.55 ,  3.02 ,  3.107]])"
      ]
     },
     "execution_count": 68,
     "metadata": {},
     "output_type": "execute_result"
    }
   ],
   "source": [
    "for i in range(K):\n",
    "    rand=rd.randint(0,m-1)\n",
    "    centroids=np.c_[centroids,data[rand]]\n",
    "centroids"
   ]
  },
  {
   "cell_type": "code",
   "execution_count": 69,
   "metadata": {},
   "outputs": [],
   "source": [
    "output = {}"
   ]
  },
  {
   "cell_type": "code",
   "execution_count": 75,
   "metadata": {},
   "outputs": [],
   "source": [
    "dist=np.array([]).reshape(m,0)\n",
    "for k in range(K):\n",
    "    tempDist=np.sum((data-centroids[:,k])**2,axis=1)\n",
    "    dist=np.c_[dist,tempDist]\n",
    "C=np.argmin(dist,axis=1)+1"
   ]
  },
  {
   "cell_type": "code",
   "execution_count": 77,
   "metadata": {},
   "outputs": [],
   "source": [
    "Y={}\n",
    "for k in range(K):\n",
    "    Y[k+1]=np.array([]).reshape(2,0)\n",
    "for i in range(m):\n",
    "    Y[C[i]]=np.c_[Y[C[i]],data[i]]\n",
    "#print(Y)\n",
    "     \n",
    "for k in range(K):\n",
    "    Y[k+1]=Y[k+1].T\n",
    "# print(Y)\n",
    "    \n",
    "for k in range(K):\n",
    "     centroids[:,k]=np.mean(Y[k+1],axis=0)"
   ]
  },
  {
   "cell_type": "code",
   "execution_count": 35,
   "metadata": {},
   "outputs": [],
   "source": [
    "for i in range(n_iter):\n",
    "    dist=np.array([]).reshape(m,0)\n",
    "    for k in range(K):\n",
    "        tempDist=np.sum((data-centroids[:,k])**2,axis=1)\n",
    "        dist=np.c_[dist,tempDist]\n",
    "    C=np.argmin(dist,axis=1)+1\n",
    "    \n",
    "    Y={}\n",
    "    for k in range(K):\n",
    "        Y[k+1]=np.array([]).reshape(2,0)\n",
    "    for i in range(m):\n",
    "        Y[C[i]]=np.c_[Y[C[i]],data[i]]\n",
    "\n",
    "    for k in range(K):\n",
    "        Y[k+1]=Y[k+1].T\n",
    "\n",
    "    for k in range(K):\n",
    "        centroids[:,k]=np.mean(Y[k+1],axis=0)\n",
    "    Output=Y"
   ]
  },
  {
   "cell_type": "code",
   "execution_count": 78,
   "metadata": {},
   "outputs": [
    {
     "data": {
      "image/png": "[encoded data removed]",
      "text/plain": [
       "<Figure size 432x288 with 1 Axes>"
      ]
     },
     "metadata": {
      "needs_background": "light"
     },
     "output_type": "display_data"
    }
   ],
   "source": [
    "plt.scatter(data[:,0],data[:,1],c='black',label='unclustered data')\n",
    "plt.legend()\n",
    "plt.title('Plot of data points')\n",
    "plt.show()"
   ]
  },
  {
   "cell_type": "code",
   "execution_count": 80,
   "metadata": {},
   "outputs": [
    {
     "data": {
      "image/png": "[encoded data removed]",
      "text/plain": [
       "<Figure size 432x288 with 1 Axes>"
      ]
     },
     "metadata": {
      "needs_background": "light"
     },
     "output_type": "display_data"
    }
   ],
   "source": [
    "color=['red','blue','green','cyan','magenta']\n",
    "labels=['cluster1','cluster2','cluster3','cluster4','cluster5']\n",
    "for k in range(K):\n",
    "    plt.scatter(Output[k+1][:,0],Output[k+1][:,1],c=color[k],label=labels[k])\n",
    "plt.scatter(centroids[0,:],centroids[1,:],s=300,c='yellow',label='Centroids')\n",
    "plt.legend()\n",
    "plt.show()"
   ]
  }
 ],
 "metadata": {
  "kernelspec": {
   "display_name": "Python 3",
   "language": "python",
   "name": "python3"
  },
  "language_info": {
   "codemirror_mode": {
    "name": "ipython",
    "version": 3
   },
   "file_extension": ".py",
   "mimetype": "text/x-python",
   "name": "python",
   "nbconvert_exporter": "python",
   "pygments_lexer": "ipython3",
   "version": "3.8.8"
  }
 },
 "nbformat": 4,
 "nbformat_minor": 2
}
